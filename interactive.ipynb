{
 "cells": [
  {
   "cell_type": "code",
   "execution_count": null,
   "id": "9db84fa1",
   "metadata": {},
   "outputs": [],
   "source": [
    "from knn_classifier import Classifier, DEFAULT_FEATURES"
   ]
  },
  {
   "cell_type": "code",
   "execution_count": null,
   "id": "73202c43",
   "metadata": {},
   "outputs": [],
   "source": [
    "datadir = \"data/mainnet/training/slots_3481601_to_3702784_bal2x\"\n",
    "disabled_clients = []\n",
    "features = ['percent_redundant', 'percent_pairwise_ordered', 'norm_reward']\n",
    "\n",
    "classifier = Classifier(datadir, disabled_clients=disabled_clients, features=features)"
   ]
  },
  {
   "cell_type": "code",
   "execution_count": null,
   "id": "123d0e68",
   "metadata": {},
   "outputs": [],
   "source": [
    "%matplotlib widget\n",
    "\n",
    "classifier.plot_feature_matrix(None)"
   ]
  }
 ],
 "metadata": {
  "kernelspec": {
   "display_name": "Python 3 (ipykernel)",
   "language": "python",
   "name": "python3"
  },
  "language_info": {
   "codemirror_mode": {
    "name": "ipython",
    "version": 3
   },
   "file_extension": ".py",
   "mimetype": "text/x-python",
   "name": "python",
   "nbconvert_exporter": "python",
   "pygments_lexer": "ipython3",
   "version": "3.9.7"
  }
 },
 "nbformat": 4,
 "nbformat_minor": 5
}
